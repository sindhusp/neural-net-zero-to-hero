{
  "metadata": {
    "kernelspec": {
      "name": "python",
      "display_name": "Python (Pyodide)",
      "language": "python"
    },
    "language_info": {
      "codemirror_mode": {
        "name": "python",
        "version": 3
      },
      "file_extension": ".py",
      "mimetype": "text/x-python",
      "name": "python",
      "nbconvert_exporter": "python",
      "pygments_lexer": "ipython3",
      "version": "3.8"
    }
  },
  "nbformat_minor": 5,
  "nbformat": 4,
  "cells": [
    {
      "id": "ae567dd0-87b3-469e-90be-7fdbcc02685c",
      "cell_type": "code",
      "source": "import math\nimport numpy as np\nimport math\nimport matplotlib.pyplot as plt\n%matplotlib inline",
      "metadata": {
        "trusted": true,
        "tags": [],
        "editable": true,
        "slideshow": {
          "slide_type": ""
        }
      },
      "outputs": [
        {
          "name": "stderr",
          "output_type": "stream",
          "text": "Matplotlib is building the font cache; this may take a moment.\n"
        }
      ],
      "execution_count": 17
    },
    {
      "id": "25d11c92-bb18-4ae7-bdb6-11958db0cbe2",
      "cell_type": "code",
      "source": "def f(x):\n    return 3*x*x -4*x + 5",
      "metadata": {
        "trusted": true,
        "tags": [],
        "editable": true,
        "slideshow": {
          "slide_type": ""
        }
      },
      "outputs": [],
      "execution_count": 18
    },
    {
      "id": "75ace0f8-bc4a-489a-a28d-8998f9ef1c16",
      "cell_type": "code",
      "source": "f(3.0)",
      "metadata": {
        "trusted": true,
        "tags": [],
        "editable": true,
        "slideshow": {
          "slide_type": ""
        }
      },
      "outputs": [
        {
          "execution_count": 19,
          "output_type": "execute_result",
          "data": {
            "text/plain": "20.0"
          },
          "metadata": {}
        }
      ],
      "execution_count": 19
    },
    {
      "id": "51b53db5-f4d4-4830-bb42-9ec5e3043788",
      "cell_type": "code",
      "source": "xs = np.arange(-5, 5, 0.25)\n\nys = f(xs)\nys",
      "metadata": {
        "trusted": true,
        "tags": [],
        "editable": true,
        "slideshow": {
          "slide_type": ""
        },
        "scrolled": true
      },
      "outputs": [
        {
          "execution_count": 20,
          "output_type": "execute_result",
          "data": {
            "text/plain": "array([100.    ,  91.6875,  83.75  ,  76.1875,  69.    ,  62.1875,\n        55.75  ,  49.6875,  44.    ,  38.6875,  33.75  ,  29.1875,\n        25.    ,  21.1875,  17.75  ,  14.6875,  12.    ,   9.6875,\n         7.75  ,   6.1875,   5.    ,   4.1875,   3.75  ,   3.6875,\n         4.    ,   4.6875,   5.75  ,   7.1875,   9.    ,  11.1875,\n        13.75  ,  16.6875,  20.    ,  23.6875,  27.75  ,  32.1875,\n        37.    ,  42.1875,  47.75  ,  53.6875])"
          },
          "metadata": {}
        }
      ],
      "execution_count": 20
    },
    {
      "id": "de457c24-7443-4b46-b6d4-9b38cf361d81",
      "cell_type": "code",
      "source": "plt.plot(xs, ys)",
      "metadata": {
        "trusted": true,
        "tags": [],
        "editable": true,
        "slideshow": {
          "slide_type": ""
        }
      },
      "outputs": [
        {
          "execution_count": 21,
          "output_type": "execute_result",
          "data": {
            "text/plain": "[<matplotlib.lines.Line2D at 0x44cfab8>]"
          },
          "metadata": {}
        },
        {
          "output_type": "display_data",
          "data": {
            "text/plain": "<Figure size 640x480 with 1 Axes>",
            "image/png": "[encoded data removed]"
          },
          "metadata": {}
        }
      ],
      "execution_count": 21
    },
    {
      "id": "79172b14-bc99-482d-8d32-a40e3f1d112d",
      "cell_type": "code",
      "source": "h = 0.000001\nx = 2/3 \ndiff = f(x+h) - f(x)\ndiff/h",
      "metadata": {
        "trusted": true
      },
      "outputs": [
        {
          "execution_count": 22,
          "output_type": "execute_result",
          "data": {
            "text/plain": "2.999378523327323e-06"
          },
          "metadata": {}
        }
      ],
      "execution_count": 22
    },
    {
      "id": "28e73b12-0509-43fa-8cc2-13f04d4abd84",
      "cell_type": "code",
      "source": "a = 2.0\nb = -3.0\nc = 10.0\nd = a*b + c\nprint(d)",
      "metadata": {
        "trusted": true
      },
      "outputs": [
        {
          "name": "stdout",
          "output_type": "stream",
          "text": "4.0\n"
        }
      ],
      "execution_count": 23
    },
    {
      "id": "08035454-dccd-4b41-ab79-d4a4fe3ce2af",
      "cell_type": "code",
      "source": "a = 2.0\nb = -3.0\nc = 10.0\nd1 = a*b + c\n\na += h\nd2 = a*b + c\n\nprint('d1', d1)\nprint('d2', d2)\n\nddbyda = (d2-d1)/h\nprint('slope', ddbyda);\n",
      "metadata": {
        "trusted": true
      },
      "outputs": [
        {
          "name": "stdout",
          "output_type": "stream",
          "text": "d1 4.0\nd2 3.9999969999999996\nslope -3.000000000419334\n"
        }
      ],
      "execution_count": 24
    },
    {
      "id": "a54bb1f8-7a4b-41bf-b5dc-c0bcdf8c1b3f",
      "cell_type": "code",
      "source": "class Value: \n    def __init__(self, data, _children=(), _op='', label = ''):\n        self.data = data\n        self._prev = set(_children)\n        self._op = _op\n        self.grad = 0.0\n        self._backward = lambda: None\n        self.label = label\n    \n    def __repr__(self):\n        return f\"Value(data={self.data}, label={self.label}, grad={self.grad})\"\n\n    def __radd__(self, other):\n        return self + other\n        \n    def __add__(self, other):\n        other = other if isinstance(other, Value) else Value(other)\n\n        out = Value(self.data + other.data, (self, other), '+')\n        \n        def _backward():\n            self.grad += out.grad\n            other.grad += out.grad\n        out._backward = _backward\n        return out\n\n    def __sub__(self, other):\n        other = other if isinstance(other, Value) else Value(other)\n        return self + (other * -1)\n\n    def __neg__(self):\n        return self * -1\n        \n    def __mul__(self, other):\n        other = other if isinstance(other, Value) else Value(other)\n        out = Value(self.data * other.data, (self, other), '*')\n        \n        def _backward():\n            self.grad += other.data * out.grad\n            other.grad += self.data * out.grad\n        out._backward = _backward\n        return out\n\n    def tanh(self): \n        x = self.data\n        t = (math.exp(2*x) - 1)/(math.exp(2*x) + 1)\n        out = Value(t, (self, ), 'tanh')\n        \n        def _backward():\n            self.grad = (1 - t**2) * out.grad\n        out._backward = _backward\n        return out\n    \n    def __pow__(self, other):\n        out = Value(self.data**other, (self, ), 'pow')\n        def backward():\n            self.grad += (other*(self.data**(other-1))) * out.grad\n        out._backward = backward\n        return out\n\n    def backward(self):\n        self.grad=1.0\n        \n        topo = []\n        visited = set()\n        def build_topo(v):\n            if v not in visited:\n                visited.add(v)\n                for child in v._prev:\n                    build_topo(child)\n                topo.append(v)\n        build_topo(self)\n    \n        for node in reversed(topo):\n            node._backward()\na = Value(2.0)\nb = Value(-3.0)\nc = Value(10.0)\nd = a*b + c\n\nd._prev\nd._op\n\n\n",
      "metadata": {
        "trusted": true,
        "scrolled": true
      },
      "outputs": [
        {
          "execution_count": 246,
          "output_type": "execute_result",
          "data": {
            "text/plain": "'+'"
          },
          "metadata": {}
        }
      ],
      "execution_count": 246
    },
    {
      "id": "f10375a4-2c4d-417a-80e3-b15eab3bb144",
      "cell_type": "code",
      "source": "",
      "metadata": {
        "trusted": true
      },
      "outputs": [],
      "execution_count": null
    },
    {
      "id": "051d8458-d3d9-437c-b06d-8a643f67272e",
      "cell_type": "code",
      "source": "def lol():\n    h = 0.0001\n    \n    a = Value(2.0)\n    b = Value(-3.0)\n    c = Value(10.0)\n    e = a*b\n    d = e + c\n    f = Value(-2.0)\n    L = d*f; \n    L1 = L.data\n\n    \n    a = Value(2.0 + h)\n    b = Value(-3.0)\n    c = Value(10.0)\n    e = a*b\n    d = e + c\n    f = Value(-2.0)\n    L = d*f; \n    L2 = L.data \n\n    print((L2 - L1) / h)\n    \nlol()",
      "metadata": {
        "trusted": true
      },
      "outputs": [
        {
          "name": "stdout",
          "output_type": "stream",
          "text": "6.000000000021544\n"
        }
      ],
      "execution_count": 247
    },
    {
      "id": "a0d985c1-3c9c-4b43-9796-f19bedecf25e",
      "cell_type": "code",
      "source": "plt.plot(np.arange(-5,5,0.2), np.tanh(np.arange(-5,5,0.2))); plt.grid();\n",
      "metadata": {
        "trusted": true
      },
      "outputs": [
        {
          "output_type": "display_data",
          "data": {
            "text/plain": "<Figure size 640x480 with 1 Axes>",
            "image/png": "[encoded data removed]"
          },
          "metadata": {}
        }
      ],
      "execution_count": 248
    },
    {
      "id": "70aa43eb-8346-483f-aa37-38b9ad0a8cf9",
      "cell_type": "code",
      "source": "# inputs x1,x2\nx1 = Value(2.0, label='x1')\nx2 = Value(0.0, label='x2')\n# weights w1,w2\nw1 = Value(-3.0, label='w1')\nw2 = Value(1.0, label='w2')\n# bias of the neuron\nb = Value(6.8813735870195432, label='b')\n# x1*w1 + x2*w2 + b\nx1w1 = x1*w1; x1w1.label = 'x1*w1'\nx2w2 = x2*w2; x2w2.label = 'x2*/w2'\nx1w1x2w2 = x1w1 + x2w2; x1w1x2w2.label = 'x1*w1 + x2*w2'\nn = x1w1x2w2 + b; n.label = 'n'\n\no = n.tanh(); o.label = 'o'\no\n",
      "metadata": {
        "trusted": true
      },
      "outputs": [
        {
          "execution_count": 249,
          "output_type": "execute_result",
          "data": {
            "text/plain": "Value(data=0.7071067811865476, label=o, grad=0.0)"
          },
          "metadata": {}
        }
      ],
      "execution_count": 249
    },
    {
      "id": "7ac26e2a-a6d5-42b1-9840-74294ec6c169",
      "cell_type": "code",
      "source": "",
      "metadata": {
        "trusted": true
      },
      "outputs": [],
      "execution_count": null
    },
    {
      "id": "b6fca489-a544-4195-bbbb-c170e1d7c992",
      "cell_type": "code",
      "source": "o.grad=1.0\no.backward()\nlist = [x1, w1, x2, w2]\nlist",
      "metadata": {
        "trusted": true
      },
      "outputs": [
        {
          "execution_count": 250,
          "output_type": "execute_result",
          "data": {
            "text/plain": "[Value(data=2.0, label=x1, grad=-1.4999999999999996),\n Value(data=-3.0, label=w1, grad=0.9999999999999998),\n Value(data=0.0, label=x2, grad=0.4999999999999999),\n Value(data=1.0, label=w2, grad=0.0)]"
          },
          "metadata": {}
        }
      ],
      "execution_count": 250
    },
    {
      "id": "ff52fe02-2b3f-412d-99b6-6976c9eadf49",
      "cell_type": "code",
      "source": "x2.grad",
      "metadata": {
        "trusted": true
      },
      "outputs": [
        {
          "execution_count": 251,
          "output_type": "execute_result",
          "data": {
            "text/plain": "0.4999999999999999"
          },
          "metadata": {}
        }
      ],
      "execution_count": 251
    },
    {
      "id": "0475bae5-66b8-49af-81a9-e667188d9a42",
      "cell_type": "code",
      "source": "import random\n\nclass Neuron:\n    def __init__(self, nin):\n        self.w = [Value(random.uniform(-1, 1)) for _ in range(nin)]\n        self.b = Value(random.uniform(-1, 1))\n        \n    def __call__(self, x): \n        activationFunc = sum((self.w[i]*x[i] for i in range(len(x))), self.b)\n        out = activationFunc.tanh()\n        return out\n        \n    def parameters(self):\n        return self.w + [self.b]\n        \n\nclass Layer: \n    def __init__(self, dimension, num_neurons): \n        self.neurons = [Neuron(dimension) for _ in range(num_neurons)]\n\n    def __call__(self, a): \n        outs = [n(a) for n in self.neurons]\n        return outs[0] if len(outs) == 1 else outs\n    \n    def parameters(self):\n        return [p for neu in self.neurons for p in neu.parameters()]\n        \nclass MLP: \n    def __init__(self, dim, layer_list):\n        num_layers = len(layer_list)\n        sz = [dim] + layer_list\n        self.layers = [Layer(sz[i], sz[i+1]) for i in range(num_layers)]\n        \n    def __call__(self, x):\n        for layer in self.layers:\n            x = layer(x)\n        return x\n        \n    def parameters(self):\n        return [p for layer in self.layers for p in layer.parameters()]\n\nk = [2.0, 3.0, -1.0]\nn = MLP(3, [4, 4, 1])\nn(k)\n\n",
      "metadata": {
        "trusted": true
      },
      "outputs": [
        {
          "execution_count": 533,
          "output_type": "execute_result",
          "data": {
            "text/plain": "Value(data=-0.09148587566412393, label=, grad=0.0)"
          },
          "metadata": {}
        }
      ],
      "execution_count": 533
    },
    {
      "id": "ee57cf1f-1c79-48c3-a04a-053b80f7f7a2",
      "cell_type": "code",
      "source": "xs = [\n    [2.0, 3.0, -1.0],\n    [3.0, -1.0, 0.5],\n    [0.5, 1.0, 1.0],\n    [1.0, 1.0, -1.0],\n]\n\nys = [1.0, -1.0, -1.0, 1.0]\nypred = [n(x) for x in xs]\nypred\n",
      "metadata": {
        "trusted": true
      },
      "outputs": [
        {
          "execution_count": 534,
          "output_type": "execute_result",
          "data": {
            "text/plain": "[Value(data=-0.09148587566412393, label=, grad=0.0),\n Value(data=0.06434792071224205, label=, grad=0.0),\n Value(data=0.6077664485591505, label=, grad=0.0),\n Value(data=0.04833013399326857, label=, grad=0.0)]"
          },
          "metadata": {}
        }
      ],
      "execution_count": 534
    },
    {
      "id": "2b0c66cf-3064-4825-9faa-61f3210f87c8",
      "cell_type": "code",
      "source": "            \nloss = sum([(ygotten - yneeded)**2 for yneeded, ygotten in zip(ys, ypred)])\nloss\n",
      "metadata": {
        "trusted": true
      },
      "outputs": [
        {
          "execution_count": 535,
          "output_type": "execute_result",
          "data": {
            "text/plain": "Value(data=5.814766400076526, label=, grad=0.0)"
          },
          "metadata": {}
        }
      ],
      "execution_count": 535
    },
    {
      "id": "96f401ef-e80c-40fe-8935-a4f0d6644bb8",
      "cell_type": "code",
      "source": "\nypred = [n(x) for x in xs]\nloss = sum([(ygotten - yneeded)**2 for yneeded, ygotten in zip(ys, ypred)])\nloss",
      "metadata": {
        "trusted": true
      },
      "outputs": [
        {
          "execution_count": 536,
          "output_type": "execute_result",
          "data": {
            "text/plain": "Value(data=5.814766400076526, label=, grad=0.0)"
          },
          "metadata": {}
        }
      ],
      "execution_count": 536
    },
    {
      "id": "db641fcd-10fc-4fcc-ae4d-4714190aacb9",
      "cell_type": "code",
      "source": "loss.backward()",
      "metadata": {
        "trusted": true
      },
      "outputs": [],
      "execution_count": 537
    },
    {
      "id": "ec85095c-ba3e-47c2-9913-a733c0da6496",
      "cell_type": "code",
      "source": "ypred",
      "metadata": {
        "trusted": true
      },
      "outputs": [
        {
          "execution_count": 538,
          "output_type": "execute_result",
          "data": {
            "text/plain": "[Value(data=-0.09148587566412393, label=, grad=-2.182971751328248),\n Value(data=0.06434792071224205, label=, grad=2.1286958414244843),\n Value(data=0.6077664485591505, label=, grad=3.215532897118301),\n Value(data=0.04833013399326857, label=, grad=-1.9033397320134628)]"
          },
          "metadata": {}
        }
      ],
      "execution_count": 538
    },
    {
      "id": "a3a254f7-1f60-4589-818f-58279f17af67",
      "cell_type": "code",
      "source": "",
      "metadata": {
        "trusted": true
      },
      "outputs": [],
      "execution_count": null
    },
    {
      "id": "ecc3ab63-6567-49c5-a106-745741426fa6",
      "cell_type": "code",
      "source": "n.layers[1].neurons[0].w",
      "metadata": {
        "trusted": true
      },
      "outputs": [
        {
          "execution_count": 539,
          "output_type": "execute_result",
          "data": {
            "text/plain": "[Value(data=-0.532859466695726, label=, grad=-3.6089073337190865),\n Value(data=0.963419026999919, label=, grad=-0.6891632679275184),\n Value(data=-0.8435889972102839, label=, grad=1.481008710852315),\n Value(data=-0.25959843832562424, label=, grad=-3.1805118868071878)]"
          },
          "metadata": {}
        }
      ],
      "execution_count": 539
    },
    {
      "id": "dfe5f2c5-245b-4711-b9de-83c7a2c3e2f7",
      "cell_type": "code",
      "source": "h = 0.01\n\nfor k in range(500): \n    ypred = [n(x) for x in xs]\n    loss = sum([(ygotten - yneeded)**2 for yneeded, ygotten in zip(ys, ypred)])\n    loss.backward()\n    \n    for p in n.parameters():\n        p.data += -h * p.grad\n        p.grad = 0.0\n        \n    print(k, loss.data)\n    ",
      "metadata": {
        "trusted": true
      },
      "outputs": [
        {
          "name": "stdout",
          "output_type": "stream",
          "text": "0 0.0011666523786738416\n1 0.0011660130380999915\n2 0.0011653743772332833\n3 0.0011647363950038829\n4 0.001164099090344225\n5 0.0011634624621889287\n6 0.0011628265094748543\n7 0.0011621912311410823\n8 0.0011615566261288517\n9 0.0011609226933816611\n10 0.0011602894318451448\n11 0.0011596568404671735\n12 0.0011590249181977724\n13 0.0011583936639891577\n14 0.0011577630767956736\n15 0.0011571331555739225\n16 0.0011565038992825552\n17 0.001155875306882458\n18 0.0011552473773366336\n19 0.0011546201096102222\n20 0.001153993502670533\n21 0.0011533675554869578\n22 0.0011527422670310696\n23 0.0011521176362765213\n24 0.0011514936621990993\n25 0.0011508703437766998\n26 0.0011502476799893184\n27 0.0011496256698190557\n28 0.0011490043122501024\n29 0.0011483836062687349\n30 0.0011477635508633272\n31 0.0011471441450243186\n32 0.0011465253877442241\n33 0.0011459072780176383\n34 0.001145289814841184\n35 0.0011446729972135702\n36 0.001144056824135571\n37 0.0011434412946099654\n38 0.0011428264076416032\n39 0.0011422121622373612\n40 0.001141598557406159\n41 0.0011409855921588998\n42 0.0011403732655085818\n43 0.001139761576470154\n44 0.0011391505240605831\n45 0.0011385401072988932\n46 0.0011379303252060484\n47 0.0011373211768050222\n48 0.001136712661120789\n49 0.0011361047771803277\n50 0.0011354975240125604\n51 0.0011348909006484037\n52 0.0011342849061207311\n53 0.0011336795394644025\n54 0.0011330747997162064\n55 0.001132470685914932\n56 0.001131867197101255\n57 0.0011312643323178645\n58 0.0011306620906093457\n59 0.00113006047102224\n60 0.001129459472605007\n61 0.001128859094408032\n62 0.0011282593354836191\n63 0.0011276601948860185\n64 0.001127061671671344\n65 0.0011264637648976607\n66 0.0011258664736248933\n67 0.0011252697969148981\n68 0.0011246737338314085\n69 0.0011240782834400472\n70 0.001123483444808312\n71 0.0011228892170055884\n72 0.0011222955991031422\n73 0.0011217025901740772\n74 0.0011211101892934037\n75 0.0011205183955379592\n76 0.0011199272079864425\n77 0.001119336625719417\n78 0.0011187466478192677\n79 0.0011181572733702304\n80 0.0011175685014583945\n81 0.0011169803311716396\n82 0.0011163927615997302\n83 0.0011158057918342068\n84 0.0011152194209684291\n85 0.0011146336480976034\n86 0.0011140484723187022\n87 0.0011134638927305402\n88 0.0011128799084337187\n89 0.00111229651853062\n90 0.001111713722125447\n91 0.0011111315183241575\n92 0.0011105499062345025\n93 0.0011099688849660152\n94 0.0011093884536300066\n95 0.001108808611339543\n96 0.001108229357209467\n97 0.0011076506903563788\n98 0.0011070726098986227\n99 0.0011064951149563156\n100 0.0011059182046512933\n101 0.0011053418781071687\n102 0.0011047661344492626\n103 0.0011041909728046518\n104 0.0011036163923021204\n105 0.0011030423920722048\n106 0.001102468971247138\n107 0.001101896128960889\n108 0.0011013238643491215\n109 0.0011007521765492364\n110 0.0011001810647003059\n111 0.0010996105279431196\n112 0.001099040565420177\n113 0.0010984711762756318\n114 0.0010979023596553593\n115 0.0010973341147069069\n116 0.0010967664405794957\n117 0.0010961993364240388\n118 0.0010956328013931047\n119 0.0010950668346409276\n120 0.0010945014353234163\n121 0.0010939366025981257\n122 0.001093372335624295\n123 0.001092808633562781\n124 0.0010922454955760949\n125 0.001091682920828402\n126 0.0010911209084854987\n127 0.001090559457714822\n128 0.0010899985676854319\n129 0.0010894382375680146\n130 0.0010888784665348877\n131 0.0010883192537599995\n132 0.0010877605984188725\n133 0.0010872024996886724\n134 0.0010866449567481827\n135 0.0010860879687777537\n136 0.0010855315349593687\n137 0.0010849756544765855\n138 0.0010844203265145604\n139 0.001083865550260043\n140 0.0010833113249013697\n141 0.001082757649628421\n142 0.0010822045236327143\n143 0.00108165194610729\n144 0.0010810999162467695\n145 0.0010805484332473637\n146 0.0010799974963068128\n147 0.0010794471046244268\n148 0.0010788972574010687\n149 0.0010783479538391673\n150 0.0010777991931426628\n151 0.0010772509745170691\n152 0.0010767032971694243\n153 0.0010761561603083013\n154 0.0010756095631438076\n155 0.0010750635048875849\n156 0.001074517984752789\n157 0.0010739730019540907\n158 0.0010734285557076984\n159 0.001072884645231313\n160 0.0010723412697441624\n161 0.001071798428466955\n162 0.0010712561206219274\n163 0.0010707143454327989\n164 0.0010701731021247989\n165 0.001069632389924635\n166 0.0010690922080604979\n167 0.0010685525557620748\n168 0.0010680134322605347\n169 0.001067474836788507\n170 0.0010669367685801194\n171 0.0010663992268709409\n172 0.0010658622108980413\n173 0.0010653257198999233\n174 0.0010647897531165557\n175 0.0010642543097893781\n176 0.0010637193891612764\n177 0.0010631849904765766\n178 0.0010626511129810537\n179 0.0010621177559219234\n180 0.0010615849185478558\n181 0.0010610526001089307\n182 0.0010605207998566936\n183 0.001059989517044088\n184 0.0010594587509254944\n185 0.0010589285007566987\n186 0.001058398765794954\n187 0.0010578695452988765\n188 0.001057340838528508\n189 0.001056812644745315\n190 0.0010562849632121609\n191 0.0010557577931932978\n192 0.0010552311339544016\n193 0.0010547049847624977\n194 0.0010541793448860725\n195 0.0010536542135949453\n196 0.001053129590160326\n197 0.0010526054738548391\n198 0.0010520818639524587\n199 0.0010515587597285294\n200 0.0010510361604598082\n201 0.001050514065424374\n202 0.0010499924739017013\n203 0.001049471385172617\n204 0.0010489507985193061\n205 0.0010484307132253119\n206 0.0010479111285755282\n207 0.0010473920438562184\n208 0.0010468734583549484\n209 0.0010463553713606828\n210 0.0010458377821636817\n211 0.0010453206900555537\n212 0.0010448040943292591\n213 0.0010442879942790786\n214 0.0010437723892006005\n215 0.0010432572783907906\n216 0.001042742661147864\n217 0.0010422285367714169\n218 0.0010417149045623313\n219 0.0010412017638227974\n220 0.0010406891138563564\n221 0.001040176953967775\n222 0.0010396652834632077\n223 0.0010391541016500658\n224 0.001038643407837051\n225 0.0010381332013341925\n226 0.0010376234814527768\n227 0.0010371142475054098\n228 0.001036605498805951\n229 0.0010360972346695617\n230 0.0010355894544126823\n231 0.0010350821573530177\n232 0.00103457534280956\n233 0.0010340690101025528\n234 0.0010335631585535261\n235 0.0010330577874852712\n236 0.001032552896221842\n237 0.001032048484088524\n238 0.0010315445504118972\n239 0.001031041094519777\n240 0.0010305381157412184\n241 0.0010300356134065457\n242 0.0010295335868473112\n243 0.0010290320353963014\n244 0.0010285309583875628\n245 0.0010280303551563658\n246 0.001027530225039218\n247 0.001027030567373837\n248 0.0010265313814992023\n249 0.0010260326667554823\n250 0.0010255344224841011\n251 0.0010250366480276628\n252 0.001024539342730025\n253 0.0010240425059362228\n254 0.0010235461369925303\n255 0.0010230502352464195\n256 0.0010225548000465565\n257 0.0010220598307428283\n258 0.0010215653266862983\n259 0.0010210712872292492\n260 0.0010205777117251352\n261 0.0010200845995286224\n262 0.00101959194999554\n263 0.0010190997624829352\n264 0.001018608036349014\n265 0.0010181167709531604\n266 0.0010176259656559496\n267 0.0010171356198191259\n268 0.0010166457328055997\n269 0.001016156303979461\n270 0.0010156673327059555\n271 0.001015178818351506\n272 0.0010146907602836639\n273 0.0010142031578711994\n274 0.0010137160104839822\n275 0.0010132293174930542\n276 0.0010127430782706105\n277 0.0010122572921900071\n278 0.0010117719586257164\n279 0.0010112870769533736\n280 0.0010108026465497576\n281 0.0010103186667927506\n282 0.0010098351370614303\n283 0.0010093520567359413\n284 0.001008869425197608\n285 0.0010083872418288522\n286 0.00100790550601325\n287 0.0010074242171354603\n288 0.0010069433745812989\n289 0.0010064629777376622\n290 0.0010059830259925965\n291 0.0010055035187352406\n292 0.0010050244553558452\n293 0.001004545835245783\n294 0.001004067657797505\n295 0.0010035899224045807\n296 0.0010031126284616673\n297 0.0010026357753645564\n298 0.0010021593625100626\n299 0.0010016833892961766\n300 0.0010012078551219256\n301 0.0010007327593874202\n302 0.0010002581014939007\n303 0.0009997838808436376\n304 0.0009993100968400098\n305 0.0009988367488874684\n306 0.000998363836391549\n307 0.000997891358758849\n308 0.0009974193153970317\n309 0.0009969477057148385\n310 0.0009964765291220728\n311 0.0009960057850296\n312 0.000995535472849344\n313 0.000995065591994289\n314 0.000994596141878484\n315 0.0009941271219170212\n316 0.0009936585315260477\n317 0.0009931903701227488\n318 0.000992722637125374\n319 0.0009922553319532085\n320 0.000991788454026575\n321 0.0009913220027668549\n322 0.0009908559775964306\n323 0.0009903903779387546\n324 0.0009899252032182925\n325 0.0009894604528605645\n326 0.0009889961262920758\n327 0.0009885322229403956\n328 0.0009880687422340996\n329 0.0009876056836027982\n330 0.00098714304647709\n331 0.0009866808302886273\n332 0.0009862190344700596\n333 0.0009857576584550419\n334 0.0009852967016782542\n335 0.0009848361635753679\n336 0.0009843760435830858\n337 0.0009839163411390862\n338 0.000983457055682048\n339 0.0009829981866516764\n340 0.0009825397334886476\n341 0.0009820816956346429\n342 0.0009816240725323221\n343 0.0009811668636253725\n344 0.0009807100683584223\n345 0.0009802536861771222\n346 0.000979797716528071\n347 0.0009793421588588796\n348 0.0009788870126181248\n349 0.0009784322772553632\n350 0.0009779779522211185\n351 0.0009775240369669044\n352 0.000977070530945191\n353 0.0009766174336094142\n354 0.0009761647444139884\n355 0.0009757124628142746\n356 0.0009752605882666091\n357 0.0009748091202282962\n358 0.0009743580581575851\n359 0.0009739074015136689\n360 0.0009734571497567303\n361 0.0009730073023478543\n362 0.0009725578587491254\n363 0.0009721088184235377\n364 0.0009716601808350609\n365 0.0009712119454485706\n366 0.0009707641117299165\n367 0.0009703166791458754\n368 0.0009698696471641597\n369 0.0009694230152534212\n370 0.0009689767828832394\n371 0.0009685309495241287\n372 0.0009680855146475154\n373 0.0009676404777257994\n374 0.000967195838232242\n375 0.0009667515956410756\n376 0.0009663077494274301\n377 0.0009658642990673686\n378 0.0009654212440378599\n379 0.0009649785838167844\n380 0.0009645363178829433\n381 0.0009640944457160463\n382 0.0009636529667967122\n383 0.0009632118806064723\n384 0.0009627711866277587\n385 0.0009623308843438883\n386 0.0009618909732391114\n387 0.0009614514527985629\n388 0.0009610123225082507\n389 0.0009605735818551254\n390 0.0009601352303269986\n391 0.0009596972674125617\n392 0.0009592596926014329\n393 0.0009588225053841013\n394 0.0009583857052519232\n395 0.000957949291697166\n396 0.0009575132642129592\n397 0.0009570776222933126\n398 0.0009566423654331361\n399 0.0009562074931281886\n400 0.000955773004875119\n401 0.0009553389001714432\n402 0.0009549051785155394\n403 0.0009544718394066754\n404 0.0009540388823449632\n405 0.0009536063068313935\n406 0.0009531741123678062\n407 0.0009527422984569326\n408 0.000952310864602305\n409 0.0009518798103083782\n410 0.0009514491350804308\n411 0.0009510188384245918\n412 0.000950588919847838\n413 0.000950159378858023\n414 0.0009497302149638262\n415 0.0009493014276747674\n416 0.0009488730165012344\n417 0.0009484449809544367\n418 0.0009480173205464377\n419 0.0009475900347901351\n420 0.0009471631231992558\n421 0.0009467365852883836\n422 0.0009463104205729149\n423 0.0009458846285690794\n424 0.0009454592087939501\n425 0.000945034160765419\n426 0.0009446094840022129\n427 0.0009441851780238653\n428 0.0009437612423507566\n429 0.0009433376765040653\n430 0.0009429144800058072\n431 0.0009424916523788092\n432 0.0009420691931467124\n433 0.0009416471018339808\n434 0.0009412253779658741\n435 0.0009408040210684753\n436 0.0009403830306686789\n437 0.0009399624062941853\n438 0.0009395421474734833\n439 0.0009391222537358997\n440 0.0009387027246115232\n441 0.0009382835596312849\n442 0.0009378647583268724\n443 0.0009374463202308043\n444 0.0009370282448763792\n445 0.0009366105317977016\n446 0.0009361931805296346\n447 0.0009357761906078788\n448 0.0009353595615688995\n449 0.0009349432929499344\n450 0.0009345273842890386\n451 0.0009341118351250306\n452 0.0009336966449975073\n453 0.000933281813446863\n454 0.0009328673400142663\n455 0.00093245322424165\n456 0.0009320394656717339\n457 0.0009316260638480169\n458 0.0009312130183147546\n459 0.0009308003286169801\n460 0.000930387994300503\n461 0.0009299760149118785\n462 0.0009295643899984687\n463 0.00092915311910836\n464 0.000928742201790412\n465 0.0009283316375942529\n466 0.0009279214260702712\n467 0.0009275115667696103\n468 0.000927102059244154\n469 0.0009266929030465667\n470 0.0009262840977302506\n471 0.0009258756428493777\n472 0.0009254675379588266\n473 0.0009250597826142776\n474 0.0009246523763721192\n475 0.0009242453187895018\n476 0.0009238386094243156\n477 0.0009234322478352014\n478 0.0009230262335815219\n479 0.000922620566223404\n480 0.0009222152453216859\n481 0.0009218102704379575\n482 0.0009214056411345386\n483 0.0009210013569744924\n484 0.0009205974175215934\n485 0.000920193822340352\n486 0.0009197905709960243\n487 0.0009193876630545781\n488 0.0009189850980827032\n489 0.0009185828756478197\n490 0.0009181809953180708\n491 0.0009177794566623111\n492 0.0009173782592501374\n493 0.0009169774026518338\n494 0.0009165768864384223\n495 0.0009161767101816345\n496 0.0009157768734539184\n497 0.0009153773758284125\n498 0.000914978216878994\n499 0.0009145793961802395\n"
        }
      ],
      "execution_count": 550
    },
    {
      "id": "9890f418-9f17-4c95-bcf9-c0ccc2cc1f19",
      "cell_type": "code",
      "source": "n.layers[1].neurons[0].w",
      "metadata": {
        "trusted": true
      },
      "outputs": [
        {
          "execution_count": 548,
          "output_type": "execute_result",
          "data": {
            "text/plain": "[Value(data=-0.06322453361811126, label=, grad=0.0),\n Value(data=0.9678911968301801, label=, grad=0.0),\n Value(data=-1.3917392740762753, label=, grad=0.0),\n Value(data=0.19116524451031836, label=, grad=0.0)]"
          },
          "metadata": {}
        }
      ],
      "execution_count": 548
    },
    {
      "id": "b146d6d0-ba95-448f-bccb-2c6ed743898a",
      "cell_type": "code",
      "source": "ypred",
      "metadata": {
        "trusted": true
      },
      "outputs": [
        {
          "execution_count": 551,
          "output_type": "execute_result",
          "data": {
            "text/plain": "[Value(data=0.9917829349876333, label=, grad=-0.016434130024733484),\n Value(data=-0.9933970854748954, label=, grad=0.013205829050209283),\n Value(data=-0.9800010077150629, label=, grad=0.039997984569874134),\n Value(data=0.9799126640361653, label=, grad=-0.040174671927669436)]"
          },
          "metadata": {}
        }
      ],
      "execution_count": 551
    },
    {
      "id": "d2e6d43e-fad6-4e28-9c96-2773c5650c13",
      "cell_type": "code",
      "source": "",
      "metadata": {
        "trusted": true
      },
      "outputs": [],
      "execution_count": null
    }
  ]
}